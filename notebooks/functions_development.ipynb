{
 "cells": [
  {
   "cell_type": "markdown",
   "metadata": {},
   "source": [
    "![Image](../images/ironhack.png)\n",
    "\n",
    "# First of all...remember the imports!!!\n",
    "\n",
    "Ohhhh...Python is so easy and nice 'cause there's always someone else doing the hard stuff...\n",
    "\n",
    "![Image](../images/import.jpg)"
   ]
  },
  {
   "cell_type": "code",
   "execution_count": 1,
   "metadata": {},
   "outputs": [],
   "source": [
    "import requests\n",
    "import pandas as pd\n",
    "import re\n",
    "import json\n",
    "import math"
   ]
  },
  {
   "cell_type": "markdown",
   "metadata": {},
   "source": [
    "# ...and remenber to leave everything nice and tidy...\n",
    "\n",
    "![Image](../images/spaghetti.jpg)\n"
   ]
  },
  {
   "cell_type": "code",
   "execution_count": 2,
   "metadata": {},
   "outputs": [],
   "source": [
    "API_TOKEN = '451a038dbd144291b812346416117571af57070a'\n",
    "USERNAME = 'Alvaru89'\n",
    "BASE_URL = 'https://api.github.com/'\n",
    "KEY = 'repos/'\n",
    "OWNER = 'ta-data-mad/'\n",
    "REPO = 'dataptmad1120/'\n",
    "SEARCH = 'search/issues?q=repo:'+OWNER+REPO+'+type:pr+state:{}'\n",
    "PULLS = 'pulls?page={}&per_page=100&state={}'\n",
    "COMMITS = 'pulls/{}/commits'\n",
    "STATE = 'open'"
   ]
  },
  {
   "cell_type": "code",
   "execution_count": 3,
   "metadata": {},
   "outputs": [],
   "source": [
    "field_list1 = ['number',\n",
    "               'title',\n",
    "               'state',\n",
    "               'created_at',\n",
    "               'updated_at',\n",
    "               'closed_at',\n",
    "               'html_url',\n",
    "               'base.repo.full_name',\n",
    "               'base.ref',\n",
    "               'head.repo.full_name',\n",
    "               'head.ref',\n",
    "               'head.repo.pushed_at']"
   ]
  },
  {
   "cell_type": "code",
   "execution_count": 4,
   "metadata": {},
   "outputs": [],
   "source": [
    "field_list2 = ['student_name',\n",
    "               'number',\n",
    "               'lab_name',\n",
    "               'state',\n",
    "               'lab_status',\n",
    "               'created_at',\n",
    "               'updated_at',\n",
    "               'closed_at',\n",
    "               'html_url',\n",
    "               'base.repo.full_name',\n",
    "               'base.ref',\n",
    "               'head.repo.full_name',\n",
    "               'head.ref',\n",
    "               'head.repo.pushed_at']"
   ]
  },
  {
   "cell_type": "code",
   "execution_count": 5,
   "metadata": {},
   "outputs": [],
   "source": [
    "field_sort1 = ['lab_status',\n",
    "               'lab_name',\n",
    "               'student_name']"
   ]
  },
  {
   "cell_type": "code",
   "execution_count": 6,
   "metadata": {},
   "outputs": [],
   "source": [
    "field_name1 = ['Student Name',\n",
    "               'PR Number',\n",
    "               'Lab Name',\n",
    "               'PR Status',\n",
    "               'Lab Status',\n",
    "               'PR Created at',\n",
    "               'PR Updated at',\n",
    "               'PR Closed at',\n",
    "               'PR URL',\n",
    "               'base repository',\n",
    "               'base',\n",
    "               'head repository',\n",
    "               'compare',\n",
    "               'Pushed at']"
   ]
  },
  {
   "cell_type": "markdown",
   "metadata": {},
   "source": [
    "# Functions \n",
    "\n",
    "Here you may find all functions you need to create your Pipeline. Be sure you test them before you start to build your Pipeline.\n",
    "\n",
    "![Image](../images/pieces.jpg)"
   ]
  },
  {
   "cell_type": "code",
   "execution_count": 8,
   "metadata": {},
   "outputs": [
    {
     "data": {
      "text/plain": [
       "1"
      ]
     },
     "execution_count": 8,
     "metadata": {},
     "output_type": "execute_result"
    }
   ],
   "source": [
    "# You can get only 100 results per page so it is important to know the number of pages you'll need.\n",
    "\n",
    "def pages(base_url, search, state, username, api_token):\n",
    "    pages = requests.get(base_url + search.format(state), auth=(username,api_token)).json()['total_count']\n",
    "    if STATE == 'open':\n",
    "        pages = math.ceil(pages/100)\n",
    "        return pages\n",
    "    elif STATE == 'closed':\n",
    "        pages = math.ceil(pages/100)\n",
    "        return pages\n",
    "    \n",
    "a=pages(BASE_URL, SEARCH, STATE, USERNAME, API_TOKEN)\n",
    "a"
   ]
  },
  {
   "cell_type": "code",
   "execution_count": null,
   "metadata": {},
   "outputs": [],
   "source": [
    "# Check the committs in order to know which labs are ready to be reviewed.\n",
    "\n",
    "def get_commits(base_url, key, owner, repo, commits, pull, username, api_token):\n",
    "    r_commits = requests.get(base_url + key + owner + repo + commits.format(pull),\n",
    "                             auth=(username, api_token)).json()\n",
    "    df_commits = pd.json_normalize(r_commits)\n",
    "    print(df_commits)\n",
    "    list_commits = list(df_commits['commit.message'])\n",
    "    commit = list(set([commit if commit == 'lab-finished' else 'lab-started' for commit in list_commits]))\n",
    "    if 'lab-finished' in commit:\n",
    "        return 'lab-finished'\n",
    "    else:\n",
    "        return 'lab-started'\n",
    "    \n",
    "b=get_commits(BASE_URL, KEY, OWNER, REPO, COMMITS, PULLS, USERNAME, API_TOKEN)\n",
    "b # NO SE QUE HACE"
   ]
  },
  {
   "cell_type": "code",
   "execution_count": 16,
   "metadata": {},
   "outputs": [
    {
     "data": {
      "text/html": [
       "<div>\n",
       "<style scoped>\n",
       "    .dataframe tbody tr th:only-of-type {\n",
       "        vertical-align: middle;\n",
       "    }\n",
       "\n",
       "    .dataframe tbody tr th {\n",
       "        vertical-align: top;\n",
       "    }\n",
       "\n",
       "    .dataframe thead th {\n",
       "        text-align: right;\n",
       "    }\n",
       "</style>\n",
       "<table border=\"1\" class=\"dataframe\">\n",
       "  <thead>\n",
       "    <tr style=\"text-align: right;\">\n",
       "      <th></th>\n",
       "      <th>number</th>\n",
       "      <th>title</th>\n",
       "      <th>state</th>\n",
       "      <th>created_at</th>\n",
       "      <th>updated_at</th>\n",
       "      <th>closed_at</th>\n",
       "      <th>html_url</th>\n",
       "      <th>base.repo.full_name</th>\n",
       "      <th>base.ref</th>\n",
       "      <th>head.repo.full_name</th>\n",
       "      <th>head.ref</th>\n",
       "      <th>head.repo.pushed_at</th>\n",
       "    </tr>\n",
       "  </thead>\n",
       "  <tbody>\n",
       "    <tr>\n",
       "      <th>0</th>\n",
       "      <td>362</td>\n",
       "      <td>[advanced-regex] Miguel González</td>\n",
       "      <td>open</td>\n",
       "      <td>2021-01-20T20:38:06Z</td>\n",
       "      <td>2021-01-20T20:38:06Z</td>\n",
       "      <td>None</td>\n",
       "      <td>https://github.com/ta-data-mad/dataptmad1120/p...</td>\n",
       "      <td>ta-data-mad/dataptmad1120</td>\n",
       "      <td>master</td>\n",
       "      <td>G0nka/dataptmad1120</td>\n",
       "      <td>advanced-regex</td>\n",
       "      <td>2021-01-20T17:32:26Z</td>\n",
       "    </tr>\n",
       "    <tr>\n",
       "      <th>1</th>\n",
       "      <td>361</td>\n",
       "      <td>[advanced-regex] Emily Paz</td>\n",
       "      <td>open</td>\n",
       "      <td>2021-01-20T20:32:47Z</td>\n",
       "      <td>2021-01-20T20:32:47Z</td>\n",
       "      <td>None</td>\n",
       "      <td>https://github.com/ta-data-mad/dataptmad1120/p...</td>\n",
       "      <td>ta-data-mad/dataptmad1120</td>\n",
       "      <td>master</td>\n",
       "      <td>EmilyPaz/dataptmad1120</td>\n",
       "      <td>advanced-regex</td>\n",
       "      <td>2021-01-20T18:14:37Z</td>\n",
       "    </tr>\n",
       "    <tr>\n",
       "      <th>2</th>\n",
       "      <td>360</td>\n",
       "      <td>[dataframe-calculations] Alejandra Matías</td>\n",
       "      <td>open</td>\n",
       "      <td>2021-01-20T11:18:03Z</td>\n",
       "      <td>2021-01-20T11:18:03Z</td>\n",
       "      <td>None</td>\n",
       "      <td>https://github.com/ta-data-mad/dataptmad1120/p...</td>\n",
       "      <td>ta-data-mad/dataptmad1120</td>\n",
       "      <td>master</td>\n",
       "      <td>alejandramatiasmartin2/dataptmad1120</td>\n",
       "      <td>dataframe-calculations</td>\n",
       "      <td>2021-01-20T11:17:34Z</td>\n",
       "    </tr>\n",
       "    <tr>\n",
       "      <th>3</th>\n",
       "      <td>359</td>\n",
       "      <td>[advanced-regex] Marina Fernández</td>\n",
       "      <td>open</td>\n",
       "      <td>2021-01-19T18:20:15Z</td>\n",
       "      <td>2021-01-21T18:45:42Z</td>\n",
       "      <td>None</td>\n",
       "      <td>https://github.com/ta-data-mad/dataptmad1120/p...</td>\n",
       "      <td>ta-data-mad/dataptmad1120</td>\n",
       "      <td>master</td>\n",
       "      <td>marinafdezban/dataptmad1120</td>\n",
       "      <td>advanced-regex</td>\n",
       "      <td>2021-01-21T18:45:41Z</td>\n",
       "    </tr>\n",
       "    <tr>\n",
       "      <th>4</th>\n",
       "      <td>358</td>\n",
       "      <td>[advanced-regex] Antonio Sánchez</td>\n",
       "      <td>open</td>\n",
       "      <td>2021-01-19T17:00:23Z</td>\n",
       "      <td>2021-01-19T17:00:23Z</td>\n",
       "      <td>None</td>\n",
       "      <td>https://github.com/ta-data-mad/dataptmad1120/p...</td>\n",
       "      <td>ta-data-mad/dataptmad1120</td>\n",
       "      <td>master</td>\n",
       "      <td>Antoniosm88/dataptmad1120</td>\n",
       "      <td>advanced-regex</td>\n",
       "      <td>2021-01-19T16:58:41Z</td>\n",
       "    </tr>\n",
       "  </tbody>\n",
       "</table>\n",
       "</div>"
      ],
      "text/plain": [
       "   number                                      title state  \\\n",
       "0     362           [advanced-regex] Miguel González  open   \n",
       "1     361                 [advanced-regex] Emily Paz  open   \n",
       "2     360  [dataframe-calculations] Alejandra Matías  open   \n",
       "3     359          [advanced-regex] Marina Fernández  open   \n",
       "4     358          [advanced-regex] Antonio Sánchez   open   \n",
       "\n",
       "             created_at            updated_at closed_at  \\\n",
       "0  2021-01-20T20:38:06Z  2021-01-20T20:38:06Z      None   \n",
       "1  2021-01-20T20:32:47Z  2021-01-20T20:32:47Z      None   \n",
       "2  2021-01-20T11:18:03Z  2021-01-20T11:18:03Z      None   \n",
       "3  2021-01-19T18:20:15Z  2021-01-21T18:45:42Z      None   \n",
       "4  2021-01-19T17:00:23Z  2021-01-19T17:00:23Z      None   \n",
       "\n",
       "                                            html_url  \\\n",
       "0  https://github.com/ta-data-mad/dataptmad1120/p...   \n",
       "1  https://github.com/ta-data-mad/dataptmad1120/p...   \n",
       "2  https://github.com/ta-data-mad/dataptmad1120/p...   \n",
       "3  https://github.com/ta-data-mad/dataptmad1120/p...   \n",
       "4  https://github.com/ta-data-mad/dataptmad1120/p...   \n",
       "\n",
       "         base.repo.full_name base.ref                   head.repo.full_name  \\\n",
       "0  ta-data-mad/dataptmad1120   master                   G0nka/dataptmad1120   \n",
       "1  ta-data-mad/dataptmad1120   master                EmilyPaz/dataptmad1120   \n",
       "2  ta-data-mad/dataptmad1120   master  alejandramatiasmartin2/dataptmad1120   \n",
       "3  ta-data-mad/dataptmad1120   master           marinafdezban/dataptmad1120   \n",
       "4  ta-data-mad/dataptmad1120   master             Antoniosm88/dataptmad1120   \n",
       "\n",
       "                 head.ref   head.repo.pushed_at  \n",
       "0          advanced-regex  2021-01-20T17:32:26Z  \n",
       "1          advanced-regex  2021-01-20T18:14:37Z  \n",
       "2  dataframe-calculations  2021-01-20T11:17:34Z  \n",
       "3          advanced-regex  2021-01-21T18:45:41Z  \n",
       "4          advanced-regex  2021-01-19T16:58:41Z  "
      ]
     },
     "execution_count": 16,
     "metadata": {},
     "output_type": "execute_result"
    }
   ],
   "source": [
    "# And finally get the 'pull requests'.\n",
    "\n",
    "def get_pulls(base_url, key, owner, repo, pulls, search, state, username, api_token, field_list):\n",
    "    pulls_list = []\n",
    "    max_pages = pages(base_url, search, state, username, api_token)\n",
    "    for i in range(max_pages):\n",
    "        r_pulls = requests.get(base_url + key + owner + repo + pulls.format(i+1, state),\n",
    "                               auth=(username, api_token)).json()\n",
    "        df_pulls = pd.json_normalize(r_pulls)\n",
    "        pulls_list.append(df_pulls)\n",
    "    df_pulls = pd.concat(pulls_list)\n",
    "    df_pulls = df_pulls[field_list]\n",
    "    return df_pulls\n",
    "\n",
    "df_pulls=get_pulls(BASE_URL, KEY, OWNER, REPO, PULLS, SEARCH, STATE, USERNAME, API_TOKEN, field_list1)\n",
    "df_pulls.head()"
   ]
  },
  {
   "cell_type": "code",
   "execution_count": 14,
   "metadata": {},
   "outputs": [
    {
     "data": {
      "text/plain": [
       "(55, 12)"
      ]
     },
     "execution_count": 14,
     "metadata": {},
     "output_type": "execute_result"
    }
   ],
   "source": [
    "df_pulls.shape"
   ]
  },
  {
   "cell_type": "code",
   "execution_count": null,
   "metadata": {},
   "outputs": [],
   "source": [
    "# But the students aren't careful with the naming...\n",
    "\n",
    "def student_name(x):\n",
    "    if ']' in x:\n",
    "        x = x.split(']')\n",
    "        x = x[1].replace('_', ' ').strip()\n",
    "        len_x = len(x.split(' '))\n",
    "        if len_x > 1:\n",
    "            x = re.findall('\\w[a-zA-Z áéíóúÁÉÍÓÚñÑ-]+', x)\n",
    "            x = x[0].strip()\n",
    "            return x\n",
    "        else:\n",
    "            x = 'No student name provided'\n",
    "            return x\n",
    "    else:\n",
    "        x = 'Pull request is not properly named'\n",
    "        return x\n",
    "    \n",
    "df_pulls()"
   ]
  },
  {
   "cell_type": "code",
   "execution_count": null,
   "metadata": {},
   "outputs": [],
   "source": [
    "def lab_name(x):\n",
    "    if ']' in x:\n",
    "        x = x.split(']')\n",
    "        x = x[0] + ']'\n",
    "        x = x.strip()\n",
    "        lower_case = re.findall('[A-ZÁÉÍÓÚñÑ]+', x)\n",
    "        if x[0] == '[' and x[-1] == ']' and ' ' not in x and len(lower_case) == 0:\n",
    "            return x\n",
    "        else:\n",
    "            x = 'Lab format name is incorrect'\n",
    "            return x\n",
    "    else:\n",
    "        x = 'Pull request is not properly named'\n",
    "        return x"
   ]
  },
  {
   "cell_type": "code",
   "execution_count": null,
   "metadata": {},
   "outputs": [],
   "source": [
    "# ...or forget to push their work!!!\n",
    "\n",
    "def time_parser(x):\n",
    "    try:\n",
    "        x = x.strip()\n",
    "        x = re.findall('[0-9]+', x)\n",
    "        x = ''.join(x)\n",
    "        x = pd.to_datetime(x, format='%Y%m%d%H%M%S', errors='coerce')\n",
    "        return x\n",
    "    except:\n",
    "        return 'Nothing pushed yet'"
   ]
  },
  {
   "cell_type": "code",
   "execution_count": null,
   "metadata": {},
   "outputs": [],
   "source": [
    "# Apply!!!!!!\n",
    "\n",
    "def df_status(df_pulls, base_url, key, owner, repo, commits, username, api_token, field_list):\n",
    "    df_pulls['student_name'] = df_pulls['title'].apply(student_name)\n",
    "    df_pulls['lab_name'] = df_pulls['title'].apply(lab_name)\n",
    "    df_pulls['created_at'] = df_pulls['created_at'].apply(time_parser)\n",
    "    df_pulls['updated_at'] = df_pulls['updated_at'].apply(time_parser)\n",
    "    df_pulls['head.repo.pushed_at'] = df_pulls['head.repo.pushed_at'].apply(time_parser)\n",
    "    df_pulls['lab_status'] = df_pulls.apply(lambda col: get_commits(base_url,\n",
    "                                                                    key,\n",
    "                                                                    owner,\n",
    "                                                                    repo,\n",
    "                                                                    commits,\n",
    "                                                                    col['number'],\n",
    "                                                                    username,\n",
    "                                                                    api_token), axis=1)\n",
    "    df_status = df_pulls[field_list]\n",
    "    return df_status"
   ]
  },
  {
   "cell_type": "code",
   "execution_count": null,
   "metadata": {},
   "outputs": [],
   "source": [
    "# And there you have it!!!\n",
    "\n",
    "def create_csv(df_status, field_sort, field_name):\n",
    "    df_csv = df_status.sort_values(by=field_sort, ascending=False)\n",
    "    df_csv.columns = field_name\n",
    "    df_csv.to_csv('../data/labs_status.csv', index=False)\n",
    "    return df_csv"
   ]
  }
 ],
 "metadata": {
  "kernelspec": {
   "display_name": "Python [conda env:ironhack_env]",
   "language": "python",
   "name": "conda-env-ironhack_env-py"
  },
  "language_info": {
   "codemirror_mode": {
    "name": "ipython",
    "version": 3
   },
   "file_extension": ".py",
   "mimetype": "text/x-python",
   "name": "python",
   "nbconvert_exporter": "python",
   "pygments_lexer": "ipython3",
   "version": "3.8.5"
  }
 },
 "nbformat": 4,
 "nbformat_minor": 4
}
